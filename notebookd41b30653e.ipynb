{
 "cells": [
  {
   "cell_type": "code",
   "execution_count": 1,
   "id": "388fc6ae",
   "metadata": {
    "_cell_guid": "b1076dfc-b9ad-4769-8c92-a6c4dae69d19",
    "_uuid": "8f2839f25d086af736a60e9eeb907d3b93b6e0e5",
    "execution": {
     "iopub.execute_input": "2025-06-11T12:18:18.078706Z",
     "iopub.status.busy": "2025-06-11T12:18:18.078347Z",
     "iopub.status.idle": "2025-06-11T12:18:20.003421Z",
     "shell.execute_reply": "2025-06-11T12:18:20.002273Z"
    },
    "papermill": {
     "duration": 1.931788,
     "end_time": "2025-06-11T12:18:20.005055",
     "exception": false,
     "start_time": "2025-06-11T12:18:18.073267",
     "status": "completed"
    },
    "tags": []
   },
   "outputs": [
    {
     "name": "stdout",
     "output_type": "stream",
     "text": [
      "/kaggle/input/summer-analytics-mid-hackathon/hacktest.csv\n",
      "/kaggle/input/summer-analytics-mid-hackathon/hacktrain.csv\n"
     ]
    }
   ],
   "source": [
    "# This Python 3 environment comes with many helpful analytics libraries installed\n",
    "# It is defined by the kaggle/python Docker image: https://github.com/kaggle/docker-python\n",
    "# For example, here's several helpful packages to load\n",
    "\n",
    "import numpy as np # linear algebra\n",
    "import pandas as pd # data processing, CSV file I/O (e.g. pd.read_csv)\n",
    "\n",
    "# Input data files are available in the read-only \"../input/\" directory\n",
    "# For example, running this (by clicking run or pressing Shift+Enter) will list all files under the input directory\n",
    "\n",
    "import os\n",
    "for dirname, _, filenames in os.walk('/kaggle/input'):\n",
    "    for filename in filenames:\n",
    "        print(os.path.join(dirname, filename))\n",
    "\n",
    "# You can write up to 20GB to the current directory (/kaggle/working/) that gets preserved as output when you create a version using \"Save & Run All\" \n",
    "# You can also write temporary files to /kaggle/temp/, but they won't be saved outside of the current session"
   ]
  },
  {
   "cell_type": "code",
   "execution_count": 2,
   "id": "fba9bb35",
   "metadata": {
    "execution": {
     "iopub.execute_input": "2025-06-11T12:18:20.012381Z",
     "iopub.status.busy": "2025-06-11T12:18:20.011954Z",
     "iopub.status.idle": "2025-06-11T12:18:20.119014Z",
     "shell.execute_reply": "2025-06-11T12:18:20.118139Z"
    },
    "papermill": {
     "duration": 0.112262,
     "end_time": "2025-06-11T12:18:20.120520",
     "exception": false,
     "start_time": "2025-06-11T12:18:20.008258",
     "status": "completed"
    },
    "tags": []
   },
   "outputs": [],
   "source": [
    "train =pd.read_csv(\"/kaggle/input/summer-analytics-mid-hackathon/hacktrain.csv\")\n",
    "test=pd.read_csv(\"/kaggle/input/summer-analytics-mid-hackathon/hacktest.csv\")"
   ]
  },
  {
   "cell_type": "code",
   "execution_count": 3,
   "id": "b681b53e",
   "metadata": {
    "execution": {
     "iopub.execute_input": "2025-06-11T12:18:20.127492Z",
     "iopub.status.busy": "2025-06-11T12:18:20.127181Z",
     "iopub.status.idle": "2025-06-11T12:18:22.000748Z",
     "shell.execute_reply": "2025-06-11T12:18:21.999642Z"
    },
    "papermill": {
     "duration": 1.879464,
     "end_time": "2025-06-11T12:18:22.002911",
     "exception": false,
     "start_time": "2025-06-11T12:18:20.123447",
     "status": "completed"
    },
    "tags": []
   },
   "outputs": [],
   "source": [
    "from sklearn.linear_model import LogisticRegression\n",
    "from sklearn.model_selection import train_test_split\n",
    "from sklearn.preprocessing import StandardScaler\n",
    "from sklearn.metrics import accuracy_score"
   ]
  },
  {
   "cell_type": "code",
   "execution_count": 4,
   "id": "d6293cc3",
   "metadata": {
    "execution": {
     "iopub.execute_input": "2025-06-11T12:18:22.010416Z",
     "iopub.status.busy": "2025-06-11T12:18:22.009484Z",
     "iopub.status.idle": "2025-06-11T12:18:22.017649Z",
     "shell.execute_reply": "2025-06-11T12:18:22.016697Z"
    },
    "papermill": {
     "duration": 0.013337,
     "end_time": "2025-06-11T12:18:22.019202",
     "exception": false,
     "start_time": "2025-06-11T12:18:22.005865",
     "status": "completed"
    },
    "tags": []
   },
   "outputs": [
    {
     "data": {
      "text/plain": [
       "['20150720_N',\n",
       " '20150602_N',\n",
       " '20150517_N',\n",
       " '20150501_N',\n",
       " '20150415_N',\n",
       " '20150330_N',\n",
       " '20150314_N',\n",
       " '20150226_N',\n",
       " '20150210_N',\n",
       " '20150125_N',\n",
       " '20150109_N',\n",
       " '20141117_N',\n",
       " '20141101_N',\n",
       " '20141016_N',\n",
       " '20140930_N',\n",
       " '20140813_N',\n",
       " '20140626_N',\n",
       " '20140610_N',\n",
       " '20140525_N',\n",
       " '20140509_N',\n",
       " '20140423_N',\n",
       " '20140407_N',\n",
       " '20140322_N',\n",
       " '20140218_N',\n",
       " '20140202_N',\n",
       " '20140117_N',\n",
       " '20140101_N']"
      ]
     },
     "execution_count": 4,
     "metadata": {},
     "output_type": "execute_result"
    }
   ],
   "source": [
    "ndvi_columns=[col for col in train.columns if \"N\" in col]\n",
    "ndvi_columns\n"
   ]
  },
  {
   "cell_type": "code",
   "execution_count": 5,
   "id": "323b6ad1",
   "metadata": {
    "execution": {
     "iopub.execute_input": "2025-06-11T12:18:22.026125Z",
     "iopub.status.busy": "2025-06-11T12:18:22.025786Z",
     "iopub.status.idle": "2025-06-11T12:18:22.063004Z",
     "shell.execute_reply": "2025-06-11T12:18:22.061976Z"
    },
    "papermill": {
     "duration": 0.042554,
     "end_time": "2025-06-11T12:18:22.064774",
     "exception": false,
     "start_time": "2025-06-11T12:18:22.022220",
     "status": "completed"
    },
    "tags": []
   },
   "outputs": [],
   "source": [
    "X=train[ndvi_columns]\n",
    "y=train[\"class\"]\n",
    "X=X.fillna(X.mean())"
   ]
  },
  {
   "cell_type": "code",
   "execution_count": 6,
   "id": "c43d0348",
   "metadata": {
    "execution": {
     "iopub.execute_input": "2025-06-11T12:18:22.071958Z",
     "iopub.status.busy": "2025-06-11T12:18:22.071574Z",
     "iopub.status.idle": "2025-06-11T12:18:22.121930Z",
     "shell.execute_reply": "2025-06-11T12:18:22.120838Z"
    },
    "papermill": {
     "duration": 0.056046,
     "end_time": "2025-06-11T12:18:22.123770",
     "exception": false,
     "start_time": "2025-06-11T12:18:22.067724",
     "status": "completed"
    },
    "tags": []
   },
   "outputs": [
    {
     "data": {
      "text/html": [
       "<div>\n",
       "<style scoped>\n",
       "    .dataframe tbody tr th:only-of-type {\n",
       "        vertical-align: middle;\n",
       "    }\n",
       "\n",
       "    .dataframe tbody tr th {\n",
       "        vertical-align: top;\n",
       "    }\n",
       "\n",
       "    .dataframe thead th {\n",
       "        text-align: right;\n",
       "    }\n",
       "</style>\n",
       "<table border=\"1\" class=\"dataframe\">\n",
       "  <thead>\n",
       "    <tr style=\"text-align: right;\">\n",
       "      <th></th>\n",
       "      <th>20150720_N</th>\n",
       "      <th>20150602_N</th>\n",
       "      <th>20150517_N</th>\n",
       "      <th>20150501_N</th>\n",
       "      <th>20150415_N</th>\n",
       "      <th>20150330_N</th>\n",
       "      <th>20150314_N</th>\n",
       "      <th>20150226_N</th>\n",
       "      <th>20150210_N</th>\n",
       "      <th>20150125_N</th>\n",
       "      <th>...</th>\n",
       "      <th>20140610_N</th>\n",
       "      <th>20140525_N</th>\n",
       "      <th>20140509_N</th>\n",
       "      <th>20140423_N</th>\n",
       "      <th>20140407_N</th>\n",
       "      <th>20140322_N</th>\n",
       "      <th>20140218_N</th>\n",
       "      <th>20140202_N</th>\n",
       "      <th>20140117_N</th>\n",
       "      <th>20140101_N</th>\n",
       "    </tr>\n",
       "  </thead>\n",
       "  <tbody>\n",
       "    <tr>\n",
       "      <th>0</th>\n",
       "      <td>7466.4200</td>\n",
       "      <td>413.162</td>\n",
       "      <td>5761.000</td>\n",
       "      <td>5625.45</td>\n",
       "      <td>489.4030</td>\n",
       "      <td>3923.84</td>\n",
       "      <td>3097.110</td>\n",
       "      <td>6766.42000</td>\n",
       "      <td>2829.130</td>\n",
       "      <td>6742.570</td>\n",
       "      <td>...</td>\n",
       "      <td>801.184</td>\n",
       "      <td>927.115</td>\n",
       "      <td>4704.14</td>\n",
       "      <td>6378.42</td>\n",
       "      <td>340.949</td>\n",
       "      <td>2695.5700</td>\n",
       "      <td>527.268</td>\n",
       "      <td>4736.75</td>\n",
       "      <td>601.843</td>\n",
       "      <td>6639.760</td>\n",
       "    </tr>\n",
       "    <tr>\n",
       "      <th>1</th>\n",
       "      <td>7235.2600</td>\n",
       "      <td>6037.350</td>\n",
       "      <td>1027.560</td>\n",
       "      <td>6085.14</td>\n",
       "      <td>1618.0500</td>\n",
       "      <td>6668.54</td>\n",
       "      <td>2513.990</td>\n",
       "      <td>1051.69000</td>\n",
       "      <td>7268.220</td>\n",
       "      <td>6908.180</td>\n",
       "      <td>...</td>\n",
       "      <td>5533.470</td>\n",
       "      <td>5103.040</td>\n",
       "      <td>5216.12</td>\n",
       "      <td>4885.27</td>\n",
       "      <td>4366.790</td>\n",
       "      <td>1234.1400</td>\n",
       "      <td>3298.110</td>\n",
       "      <td>6942.68</td>\n",
       "      <td>1070.440</td>\n",
       "      <td>842.101</td>\n",
       "    </tr>\n",
       "    <tr>\n",
       "      <th>2</th>\n",
       "      <td>7425.0800</td>\n",
       "      <td>6969.980</td>\n",
       "      <td>1177.940</td>\n",
       "      <td>7408.93</td>\n",
       "      <td>861.0610</td>\n",
       "      <td>7644.43</td>\n",
       "      <td>814.458</td>\n",
       "      <td>1504.29000</td>\n",
       "      <td>7002.630</td>\n",
       "      <td>6086.560</td>\n",
       "      <td>...</td>\n",
       "      <td>1981.390</td>\n",
       "      <td>6204.540</td>\n",
       "      <td>7021.69</td>\n",
       "      <td>5704.41</td>\n",
       "      <td>4897.450</td>\n",
       "      <td>1789.9900</td>\n",
       "      <td>2206.100</td>\n",
       "      <td>6928.93</td>\n",
       "      <td>1036.560</td>\n",
       "      <td>831.441</td>\n",
       "    </tr>\n",
       "    <tr>\n",
       "      <th>3</th>\n",
       "      <td>7119.1200</td>\n",
       "      <td>1731.620</td>\n",
       "      <td>6311.930</td>\n",
       "      <td>6441.61</td>\n",
       "      <td>465.9790</td>\n",
       "      <td>7128.42</td>\n",
       "      <td>1649.120</td>\n",
       "      <td>6935.22000</td>\n",
       "      <td>2176.800</td>\n",
       "      <td>690.408</td>\n",
       "      <td>...</td>\n",
       "      <td>959.344</td>\n",
       "      <td>5794.150</td>\n",
       "      <td>1045.57</td>\n",
       "      <td>5572.90</td>\n",
       "      <td>586.287</td>\n",
       "      <td>685.9060</td>\n",
       "      <td>1287.000</td>\n",
       "      <td>6734.72</td>\n",
       "      <td>824.584</td>\n",
       "      <td>6883.610</td>\n",
       "    </tr>\n",
       "    <tr>\n",
       "      <th>4</th>\n",
       "      <td>7519.5500</td>\n",
       "      <td>8130.260</td>\n",
       "      <td>1482.540</td>\n",
       "      <td>7879.53</td>\n",
       "      <td>1001.2100</td>\n",
       "      <td>7937.60</td>\n",
       "      <td>4122.530</td>\n",
       "      <td>1094.51000</td>\n",
       "      <td>7951.440</td>\n",
       "      <td>8001.350</td>\n",
       "      <td>...</td>\n",
       "      <td>7636.070</td>\n",
       "      <td>6996.760</td>\n",
       "      <td>7413.43</td>\n",
       "      <td>4596.13</td>\n",
       "      <td>4511.700</td>\n",
       "      <td>1413.5200</td>\n",
       "      <td>3283.940</td>\n",
       "      <td>7937.68</td>\n",
       "      <td>1857.800</td>\n",
       "      <td>1336.920</td>\n",
       "    </tr>\n",
       "    <tr>\n",
       "      <th>...</th>\n",
       "      <td>...</td>\n",
       "      <td>...</td>\n",
       "      <td>...</td>\n",
       "      <td>...</td>\n",
       "      <td>...</td>\n",
       "      <td>...</td>\n",
       "      <td>...</td>\n",
       "      <td>...</td>\n",
       "      <td>...</td>\n",
       "      <td>...</td>\n",
       "      <td>...</td>\n",
       "      <td>...</td>\n",
       "      <td>...</td>\n",
       "      <td>...</td>\n",
       "      <td>...</td>\n",
       "      <td>...</td>\n",
       "      <td>...</td>\n",
       "      <td>...</td>\n",
       "      <td>...</td>\n",
       "      <td>...</td>\n",
       "      <td>...</td>\n",
       "    </tr>\n",
       "    <tr>\n",
       "      <th>2840</th>\n",
       "      <td>-1673.7400</td>\n",
       "      <td>-2514.480</td>\n",
       "      <td>-2451.190</td>\n",
       "      <td>-2738.44</td>\n",
       "      <td>64.4464</td>\n",
       "      <td>-2275.03</td>\n",
       "      <td>-2881.100</td>\n",
       "      <td>-4738.97000</td>\n",
       "      <td>-4293.570</td>\n",
       "      <td>-4402.210</td>\n",
       "      <td>...</td>\n",
       "      <td>-2257.890</td>\n",
       "      <td>-2582.420</td>\n",
       "      <td>-1699.10</td>\n",
       "      <td>-2295.30</td>\n",
       "      <td>306.483</td>\n",
       "      <td>209.4030</td>\n",
       "      <td>221.920</td>\n",
       "      <td>-4885.15</td>\n",
       "      <td>-2630.590</td>\n",
       "      <td>356.233</td>\n",
       "    </tr>\n",
       "    <tr>\n",
       "      <th>2841</th>\n",
       "      <td>-96.8233</td>\n",
       "      <td>-412.727</td>\n",
       "      <td>-1795.400</td>\n",
       "      <td>-2363.82</td>\n",
       "      <td>-2168.1900</td>\n",
       "      <td>-2162.68</td>\n",
       "      <td>-3155.740</td>\n",
       "      <td>-4416.11000</td>\n",
       "      <td>-5648.660</td>\n",
       "      <td>-5193.280</td>\n",
       "      <td>...</td>\n",
       "      <td>-3991.910</td>\n",
       "      <td>-2614.910</td>\n",
       "      <td>-2109.84</td>\n",
       "      <td>-2687.18</td>\n",
       "      <td>-2853.890</td>\n",
       "      <td>71.3402</td>\n",
       "      <td>-86.414</td>\n",
       "      <td>-5109.01</td>\n",
       "      <td>324.637</td>\n",
       "      <td>-4316.580</td>\n",
       "    </tr>\n",
       "    <tr>\n",
       "      <th>2842</th>\n",
       "      <td>-2364.6000</td>\n",
       "      <td>-155.592</td>\n",
       "      <td>-1422.090</td>\n",
       "      <td>-1713.40</td>\n",
       "      <td>465.6220</td>\n",
       "      <td>-2230.40</td>\n",
       "      <td>-3088.730</td>\n",
       "      <td>-5010.32000</td>\n",
       "      <td>-4211.420</td>\n",
       "      <td>-3354.430</td>\n",
       "      <td>...</td>\n",
       "      <td>-2484.500</td>\n",
       "      <td>-1756.080</td>\n",
       "      <td>-3820.43</td>\n",
       "      <td>-1988.23</td>\n",
       "      <td>433.852</td>\n",
       "      <td>291.8000</td>\n",
       "      <td>254.548</td>\n",
       "      <td>-4259.30</td>\n",
       "      <td>412.115</td>\n",
       "      <td>-1170.750</td>\n",
       "    </tr>\n",
       "    <tr>\n",
       "      <th>2843</th>\n",
       "      <td>-3004.6300</td>\n",
       "      <td>-1217.120</td>\n",
       "      <td>180.122</td>\n",
       "      <td>-1113.89</td>\n",
       "      <td>438.4180</td>\n",
       "      <td>-2442.51</td>\n",
       "      <td>-3210.560</td>\n",
       "      <td>-3237.74000</td>\n",
       "      <td>-192.857</td>\n",
       "      <td>-2857.540</td>\n",
       "      <td>...</td>\n",
       "      <td>-3291.490</td>\n",
       "      <td>-2018.450</td>\n",
       "      <td>-3472.65</td>\n",
       "      <td>-3109.07</td>\n",
       "      <td>511.792</td>\n",
       "      <td>369.0970</td>\n",
       "      <td>276.948</td>\n",
       "      <td>-5574.51</td>\n",
       "      <td>298.739</td>\n",
       "      <td>460.419</td>\n",
       "    </tr>\n",
       "    <tr>\n",
       "      <th>2844</th>\n",
       "      <td>-2975.1000</td>\n",
       "      <td>-1129.790</td>\n",
       "      <td>463.748</td>\n",
       "      <td>-5355.40</td>\n",
       "      <td>193.5110</td>\n",
       "      <td>-2590.16</td>\n",
       "      <td>-3113.520</td>\n",
       "      <td>-2.38883</td>\n",
       "      <td>-1248.450</td>\n",
       "      <td>328.306</td>\n",
       "      <td>...</td>\n",
       "      <td>-3058.230</td>\n",
       "      <td>-2276.180</td>\n",
       "      <td>-3335.00</td>\n",
       "      <td>-2929.19</td>\n",
       "      <td>-1007.500</td>\n",
       "      <td>271.0580</td>\n",
       "      <td>307.997</td>\n",
       "      <td>-5453.33</td>\n",
       "      <td>307.495</td>\n",
       "      <td>417.124</td>\n",
       "    </tr>\n",
       "  </tbody>\n",
       "</table>\n",
       "<p>2845 rows × 27 columns</p>\n",
       "</div>"
      ],
      "text/plain": [
       "      20150720_N  20150602_N  20150517_N  20150501_N  20150415_N  20150330_N  \\\n",
       "0      7466.4200     413.162    5761.000     5625.45    489.4030     3923.84   \n",
       "1      7235.2600    6037.350    1027.560     6085.14   1618.0500     6668.54   \n",
       "2      7425.0800    6969.980    1177.940     7408.93    861.0610     7644.43   \n",
       "3      7119.1200    1731.620    6311.930     6441.61    465.9790     7128.42   \n",
       "4      7519.5500    8130.260    1482.540     7879.53   1001.2100     7937.60   \n",
       "...          ...         ...         ...         ...         ...         ...   \n",
       "2840  -1673.7400   -2514.480   -2451.190    -2738.44     64.4464    -2275.03   \n",
       "2841    -96.8233    -412.727   -1795.400    -2363.82  -2168.1900    -2162.68   \n",
       "2842  -2364.6000    -155.592   -1422.090    -1713.40    465.6220    -2230.40   \n",
       "2843  -3004.6300   -1217.120     180.122    -1113.89    438.4180    -2442.51   \n",
       "2844  -2975.1000   -1129.790     463.748    -5355.40    193.5110    -2590.16   \n",
       "\n",
       "      20150314_N  20150226_N  20150210_N  20150125_N  ...  20140610_N  \\\n",
       "0       3097.110  6766.42000    2829.130    6742.570  ...     801.184   \n",
       "1       2513.990  1051.69000    7268.220    6908.180  ...    5533.470   \n",
       "2        814.458  1504.29000    7002.630    6086.560  ...    1981.390   \n",
       "3       1649.120  6935.22000    2176.800     690.408  ...     959.344   \n",
       "4       4122.530  1094.51000    7951.440    8001.350  ...    7636.070   \n",
       "...          ...         ...         ...         ...  ...         ...   \n",
       "2840   -2881.100 -4738.97000   -4293.570   -4402.210  ...   -2257.890   \n",
       "2841   -3155.740 -4416.11000   -5648.660   -5193.280  ...   -3991.910   \n",
       "2842   -3088.730 -5010.32000   -4211.420   -3354.430  ...   -2484.500   \n",
       "2843   -3210.560 -3237.74000    -192.857   -2857.540  ...   -3291.490   \n",
       "2844   -3113.520    -2.38883   -1248.450     328.306  ...   -3058.230   \n",
       "\n",
       "      20140525_N  20140509_N  20140423_N  20140407_N  20140322_N  20140218_N  \\\n",
       "0        927.115     4704.14     6378.42     340.949   2695.5700     527.268   \n",
       "1       5103.040     5216.12     4885.27    4366.790   1234.1400    3298.110   \n",
       "2       6204.540     7021.69     5704.41    4897.450   1789.9900    2206.100   \n",
       "3       5794.150     1045.57     5572.90     586.287    685.9060    1287.000   \n",
       "4       6996.760     7413.43     4596.13    4511.700   1413.5200    3283.940   \n",
       "...          ...         ...         ...         ...         ...         ...   \n",
       "2840   -2582.420    -1699.10    -2295.30     306.483    209.4030     221.920   \n",
       "2841   -2614.910    -2109.84    -2687.18   -2853.890     71.3402     -86.414   \n",
       "2842   -1756.080    -3820.43    -1988.23     433.852    291.8000     254.548   \n",
       "2843   -2018.450    -3472.65    -3109.07     511.792    369.0970     276.948   \n",
       "2844   -2276.180    -3335.00    -2929.19   -1007.500    271.0580     307.997   \n",
       "\n",
       "      20140202_N  20140117_N  20140101_N  \n",
       "0        4736.75     601.843    6639.760  \n",
       "1        6942.68    1070.440     842.101  \n",
       "2        6928.93    1036.560     831.441  \n",
       "3        6734.72     824.584    6883.610  \n",
       "4        7937.68    1857.800    1336.920  \n",
       "...          ...         ...         ...  \n",
       "2840    -4885.15   -2630.590     356.233  \n",
       "2841    -5109.01     324.637   -4316.580  \n",
       "2842    -4259.30     412.115   -1170.750  \n",
       "2843    -5574.51     298.739     460.419  \n",
       "2844    -5453.33     307.495     417.124  \n",
       "\n",
       "[2845 rows x 27 columns]"
      ]
     },
     "execution_count": 6,
     "metadata": {},
     "output_type": "execute_result"
    }
   ],
   "source": [
    "X_test=test[ndvi_columns]\n",
    "X_test=X_test.fillna(X.mean())\n",
    "X_test"
   ]
  },
  {
   "cell_type": "code",
   "execution_count": 7,
   "id": "e4b543b6",
   "metadata": {
    "execution": {
     "iopub.execute_input": "2025-06-11T12:18:22.131596Z",
     "iopub.status.busy": "2025-06-11T12:18:22.131283Z",
     "iopub.status.idle": "2025-06-11T12:18:22.172930Z",
     "shell.execute_reply": "2025-06-11T12:18:22.171920Z"
    },
    "papermill": {
     "duration": 0.047487,
     "end_time": "2025-06-11T12:18:22.174784",
     "exception": false,
     "start_time": "2025-06-11T12:18:22.127297",
     "status": "completed"
    },
    "tags": []
   },
   "outputs": [],
   "source": [
    "scaler=StandardScaler()\n",
    "X_scaled=scaler.fit_transform(X)\n",
    "X_test_scaled=scaler.transform(X_test)"
   ]
  },
  {
   "cell_type": "code",
   "execution_count": 8,
   "id": "ce5e8a5b",
   "metadata": {
    "execution": {
     "iopub.execute_input": "2025-06-11T12:18:22.183811Z",
     "iopub.status.busy": "2025-06-11T12:18:22.183429Z",
     "iopub.status.idle": "2025-06-11T12:18:22.190836Z",
     "shell.execute_reply": "2025-06-11T12:18:22.189942Z"
    },
    "papermill": {
     "duration": 0.013739,
     "end_time": "2025-06-11T12:18:22.192600",
     "exception": false,
     "start_time": "2025-06-11T12:18:22.178861",
     "status": "completed"
    },
    "tags": []
   },
   "outputs": [],
   "source": [
    "X_train,X_test,y_train,y_test=train_test_split(X_scaled,y,test_size=0.2,random_state=42)"
   ]
  },
  {
   "cell_type": "code",
   "execution_count": 9,
   "id": "eba889fb",
   "metadata": {
    "execution": {
     "iopub.execute_input": "2025-06-11T12:18:22.200378Z",
     "iopub.status.busy": "2025-06-11T12:18:22.200065Z",
     "iopub.status.idle": "2025-06-11T12:18:22.944458Z",
     "shell.execute_reply": "2025-06-11T12:18:22.943705Z"
    },
    "papermill": {
     "duration": 0.750656,
     "end_time": "2025-06-11T12:18:22.946662",
     "exception": false,
     "start_time": "2025-06-11T12:18:22.196006",
     "status": "completed"
    },
    "tags": []
   },
   "outputs": [
    {
     "data": {
      "text/html": [
       "<style>#sk-container-id-1 {color: black;background-color: white;}#sk-container-id-1 pre{padding: 0;}#sk-container-id-1 div.sk-toggleable {background-color: white;}#sk-container-id-1 label.sk-toggleable__label {cursor: pointer;display: block;width: 100%;margin-bottom: 0;padding: 0.3em;box-sizing: border-box;text-align: center;}#sk-container-id-1 label.sk-toggleable__label-arrow:before {content: \"▸\";float: left;margin-right: 0.25em;color: #696969;}#sk-container-id-1 label.sk-toggleable__label-arrow:hover:before {color: black;}#sk-container-id-1 div.sk-estimator:hover label.sk-toggleable__label-arrow:before {color: black;}#sk-container-id-1 div.sk-toggleable__content {max-height: 0;max-width: 0;overflow: hidden;text-align: left;background-color: #f0f8ff;}#sk-container-id-1 div.sk-toggleable__content pre {margin: 0.2em;color: black;border-radius: 0.25em;background-color: #f0f8ff;}#sk-container-id-1 input.sk-toggleable__control:checked~div.sk-toggleable__content {max-height: 200px;max-width: 100%;overflow: auto;}#sk-container-id-1 input.sk-toggleable__control:checked~label.sk-toggleable__label-arrow:before {content: \"▾\";}#sk-container-id-1 div.sk-estimator input.sk-toggleable__control:checked~label.sk-toggleable__label {background-color: #d4ebff;}#sk-container-id-1 div.sk-label input.sk-toggleable__control:checked~label.sk-toggleable__label {background-color: #d4ebff;}#sk-container-id-1 input.sk-hidden--visually {border: 0;clip: rect(1px 1px 1px 1px);clip: rect(1px, 1px, 1px, 1px);height: 1px;margin: -1px;overflow: hidden;padding: 0;position: absolute;width: 1px;}#sk-container-id-1 div.sk-estimator {font-family: monospace;background-color: #f0f8ff;border: 1px dotted black;border-radius: 0.25em;box-sizing: border-box;margin-bottom: 0.5em;}#sk-container-id-1 div.sk-estimator:hover {background-color: #d4ebff;}#sk-container-id-1 div.sk-parallel-item::after {content: \"\";width: 100%;border-bottom: 1px solid gray;flex-grow: 1;}#sk-container-id-1 div.sk-label:hover label.sk-toggleable__label {background-color: #d4ebff;}#sk-container-id-1 div.sk-serial::before {content: \"\";position: absolute;border-left: 1px solid gray;box-sizing: border-box;top: 0;bottom: 0;left: 50%;z-index: 0;}#sk-container-id-1 div.sk-serial {display: flex;flex-direction: column;align-items: center;background-color: white;padding-right: 0.2em;padding-left: 0.2em;position: relative;}#sk-container-id-1 div.sk-item {position: relative;z-index: 1;}#sk-container-id-1 div.sk-parallel {display: flex;align-items: stretch;justify-content: center;background-color: white;position: relative;}#sk-container-id-1 div.sk-item::before, #sk-container-id-1 div.sk-parallel-item::before {content: \"\";position: absolute;border-left: 1px solid gray;box-sizing: border-box;top: 0;bottom: 0;left: 50%;z-index: -1;}#sk-container-id-1 div.sk-parallel-item {display: flex;flex-direction: column;z-index: 1;position: relative;background-color: white;}#sk-container-id-1 div.sk-parallel-item:first-child::after {align-self: flex-end;width: 50%;}#sk-container-id-1 div.sk-parallel-item:last-child::after {align-self: flex-start;width: 50%;}#sk-container-id-1 div.sk-parallel-item:only-child::after {width: 0;}#sk-container-id-1 div.sk-dashed-wrapped {border: 1px dashed gray;margin: 0 0.4em 0.5em 0.4em;box-sizing: border-box;padding-bottom: 0.4em;background-color: white;}#sk-container-id-1 div.sk-label label {font-family: monospace;font-weight: bold;display: inline-block;line-height: 1.2em;}#sk-container-id-1 div.sk-label-container {text-align: center;}#sk-container-id-1 div.sk-container {/* jupyter's `normalize.less` sets `[hidden] { display: none; }` but bootstrap.min.css set `[hidden] { display: none !important; }` so we also need the `!important` here to be able to override the default hidden behavior on the sphinx rendered scikit-learn.org. See: https://github.com/scikit-learn/scikit-learn/issues/21755 */display: inline-block !important;position: relative;}#sk-container-id-1 div.sk-text-repr-fallback {display: none;}</style><div id=\"sk-container-id-1\" class=\"sk-top-container\"><div class=\"sk-text-repr-fallback\"><pre>LogisticRegression(max_iter=1000, multi_class=&#x27;multinomial&#x27;)</pre><b>In a Jupyter environment, please rerun this cell to show the HTML representation or trust the notebook. <br />On GitHub, the HTML representation is unable to render, please try loading this page with nbviewer.org.</b></div><div class=\"sk-container\" hidden><div class=\"sk-item\"><div class=\"sk-estimator sk-toggleable\"><input class=\"sk-toggleable__control sk-hidden--visually\" id=\"sk-estimator-id-1\" type=\"checkbox\" checked><label for=\"sk-estimator-id-1\" class=\"sk-toggleable__label sk-toggleable__label-arrow\">LogisticRegression</label><div class=\"sk-toggleable__content\"><pre>LogisticRegression(max_iter=1000, multi_class=&#x27;multinomial&#x27;)</pre></div></div></div></div></div>"
      ],
      "text/plain": [
       "LogisticRegression(max_iter=1000, multi_class='multinomial')"
      ]
     },
     "execution_count": 9,
     "metadata": {},
     "output_type": "execute_result"
    }
   ],
   "source": [
    "model=LogisticRegression(multi_class=\"multinomial\",max_iter=1000)\n",
    "model.fit(X_train,y_train)"
   ]
  },
  {
   "cell_type": "code",
   "execution_count": 10,
   "id": "b0c0bbc8",
   "metadata": {
    "execution": {
     "iopub.execute_input": "2025-06-11T12:18:22.960108Z",
     "iopub.status.busy": "2025-06-11T12:18:22.959539Z",
     "iopub.status.idle": "2025-06-11T12:18:22.980408Z",
     "shell.execute_reply": "2025-06-11T12:18:22.976761Z"
    },
    "papermill": {
     "duration": 0.028713,
     "end_time": "2025-06-11T12:18:22.981891",
     "exception": false,
     "start_time": "2025-06-11T12:18:22.953178",
     "status": "completed"
    },
    "tags": []
   },
   "outputs": [
    {
     "name": "stdout",
     "output_type": "stream",
     "text": [
      "accuracy 0.8775\n"
     ]
    }
   ],
   "source": [
    "y_test_pred=model.predict(X_test)\n",
    "val_acc=accuracy_score(y_test,y_test_pred)\n",
    "print(\"accuracy\",val_acc)"
   ]
  },
  {
   "cell_type": "code",
   "execution_count": 11,
   "id": "cded5dc2",
   "metadata": {
    "execution": {
     "iopub.execute_input": "2025-06-11T12:18:22.998818Z",
     "iopub.status.busy": "2025-06-11T12:18:22.997138Z",
     "iopub.status.idle": "2025-06-11T12:18:23.036262Z",
     "shell.execute_reply": "2025-06-11T12:18:23.035392Z"
    },
    "papermill": {
     "duration": 0.048281,
     "end_time": "2025-06-11T12:18:23.038725",
     "exception": false,
     "start_time": "2025-06-11T12:18:22.990444",
     "status": "completed"
    },
    "tags": []
   },
   "outputs": [],
   "source": [
    "test_pred=model.predict(X_test_scaled)\n",
    "submission=pd.DataFrame({\n",
    "    \"ID\":test[\"ID\"],\n",
    "    \"class\":test_pred\n",
    "})\n",
    "\n",
    "submission.to_csv(\"submission.csv\",index=False)\n"
   ]
  }
 ],
 "metadata": {
  "kaggle": {
   "accelerator": "none",
   "dataSources": [
    {
     "databundleVersionId": 12585144,
     "sourceId": 104491,
     "sourceType": "competition"
    }
   ],
   "dockerImageVersionId": 31040,
   "isGpuEnabled": false,
   "isInternetEnabled": true,
   "language": "python",
   "sourceType": "notebook"
  },
  "kernelspec": {
   "display_name": "Python 3",
   "language": "python",
   "name": "python3"
  },
  "language_info": {
   "codemirror_mode": {
    "name": "ipython",
    "version": 3
   },
   "file_extension": ".py",
   "mimetype": "text/x-python",
   "name": "python",
   "nbconvert_exporter": "python",
   "pygments_lexer": "ipython3",
   "version": "3.11.11"
  },
  "papermill": {
   "default_parameters": {},
   "duration": 10.615611,
   "end_time": "2025-06-11T12:18:23.762354",
   "environment_variables": {},
   "exception": null,
   "input_path": "__notebook__.ipynb",
   "output_path": "__notebook__.ipynb",
   "parameters": {},
   "start_time": "2025-06-11T12:18:13.146743",
   "version": "2.6.0"
  }
 },
 "nbformat": 4,
 "nbformat_minor": 5
}
